{
 "cells": [
  {
   "cell_type": "code",
   "execution_count": 4,
   "id": "8eab26a3-7311-46be-9160-248406da2221",
   "metadata": {},
   "outputs": [],
   "source": [
    "import importlib\n",
    "import etl"
   ]
  },
  {
   "cell_type": "code",
   "execution_count": 14,
   "id": "9fb9ea88-fe0f-469b-a8ee-ba9a3a06193a",
   "metadata": {},
   "outputs": [],
   "source": [
    "# Get new data\n",
    "importlib.reload(etl)\n",
    "\n",
    "print_results = False\n",
    "games, odds = etl.main(print_results)"
   ]
  }
 ],
 "metadata": {
  "kernelspec": {
   "display_name": "Python 3 (ipykernel)",
   "language": "python",
   "name": "python3"
  },
  "language_info": {
   "codemirror_mode": {
    "name": "ipython",
    "version": 3
   },
   "file_extension": ".py",
   "mimetype": "text/x-python",
   "name": "python",
   "nbconvert_exporter": "python",
   "pygments_lexer": "ipython3",
   "version": "3.12.3"
  },
  "nteract": {
   "version": "0.28.0"
  }
 },
 "nbformat": 4,
 "nbformat_minor": 5
}
